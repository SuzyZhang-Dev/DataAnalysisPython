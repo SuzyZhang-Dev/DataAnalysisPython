{
 "cells": [
  {
   "cell_type": "markdown",
   "id": "e3af01f0-eb01-4668-ba00-755922f5413a",
   "metadata": {},
   "source": [
    "## Hands-on - Basic Statistics in Python"
   ]
  },
  {
   "cell_type": "code",
   "execution_count": 45,
   "id": "a56353bd",
   "metadata": {},
   "outputs": [
    {
     "name": "stdout",
     "output_type": "stream",
     "text": [
      "Dataset Preview:\n",
      "   id    age  sex  height  weight  ap_hi  ap_lo  cholesterol  gluc  smoke  \\\n",
      "0   0  18393    2     168    62.0    110     80            1     1      0   \n",
      "1   1  20228    1     156    85.0    140     90            3     1      0   \n",
      "2   2  18857    1     165    64.0    130     70            3     1      0   \n",
      "3   3  17623    2     169    82.0    150    100            1     1      0   \n",
      "4   4  17474    1     156    56.0    100     60            1     1      0   \n",
      "\n",
      "   alco  active  cardio  \n",
      "0     0       1       0  \n",
      "1     0       1       1  \n",
      "2     0       0       1  \n",
      "3     0       1       1  \n",
      "4     0       0       0  \n"
     ]
    }
   ],
   "source": [
    "# Import necessary libraries\n",
    "import pandas as pd  # for handling tabular datasets\n",
    "import numpy as np  # for numerical computations\n",
    "from scipy import stats  # for statistical operations\n",
    "import matplotlib.pyplot as plt  # for plotting\n",
    "import seaborn as sns  # for advanced statistical plots\n",
    "\n",
    "# Load dataset from GitHub URL\n",
    "file_path = \"https://raw.githubusercontent.com/Hamed-Ahmadinia/DASP-2025/refs/heads/main/medical_examination.csv\"  # URL link to the dataset stored on GitHub\n",
    "\n",
    "# Read the dataset into a pandas dataframe\n",
    "df = pd.read_csv(file_path)  # Load the dataset as a pandas DataFrame\n",
    "\n",
    "# Display the first few rows of the dataframe to confirm the data has been loaded correctly\n",
    "print(\"Dataset Preview:\")  # Print a label for context\n",
    "print(df.head(5))  # Display the first 5 rows of the dataset"
   ]
  },
  {
   "cell_type": "markdown",
   "id": "878fcaa5-7ebc-401a-99ae-c16c1c24bb9f",
   "metadata": {},
   "source": [
    "### **Exercise 1: Display Dataset Information**\n",
    "**Question:** Use df.info() to display basic information about the dataset."
   ]
  },
  {
   "cell_type": "code",
   "execution_count": 46,
   "id": "ce2da9e1-00e5-477a-ab10-0afdc58ff97a",
   "metadata": {},
   "outputs": [
    {
     "name": "stdout",
     "output_type": "stream",
     "text": [
      "Dataset information:\n",
      "<class 'pandas.core.frame.DataFrame'>\n",
      "RangeIndex: 70000 entries, 0 to 69999\n",
      "Data columns (total 13 columns):\n",
      " #   Column       Non-Null Count  Dtype  \n",
      "---  ------       --------------  -----  \n",
      " 0   id           70000 non-null  int64  \n",
      " 1   age          70000 non-null  int64  \n",
      " 2   sex          70000 non-null  int64  \n",
      " 3   height       70000 non-null  int64  \n",
      " 4   weight       70000 non-null  float64\n",
      " 5   ap_hi        70000 non-null  int64  \n",
      " 6   ap_lo        70000 non-null  int64  \n",
      " 7   cholesterol  70000 non-null  int64  \n",
      " 8   gluc         70000 non-null  int64  \n",
      " 9   smoke        70000 non-null  int64  \n",
      " 10  alco         70000 non-null  int64  \n",
      " 11  active       70000 non-null  int64  \n",
      " 12  cardio       70000 non-null  int64  \n",
      "dtypes: float64(1), int64(12)\n",
      "memory usage: 6.9 MB\n",
      "None\n"
     ]
    }
   ],
   "source": [
    "# Your code here:\n",
    "print(\"Dataset information:\")\n",
    "print(df.info())"
   ]
  },
  {
   "cell_type": "markdown",
   "id": "7186c00d-4ac0-4853-8977-728f17e0ab64",
   "metadata": {},
   "source": [
    "### **Exercise 2: Calculate Minimum and Maximum Values**  \n",
    "**Question:** Calculate the **minimum** and **maximum** values for the following columns:  \n",
    "\n",
    "- **\"height\"**  \n",
    "- **\"weight\"**  \n",
    "- **\"ap_hi\"** (systolic blood pressure)  \n",
    "- **\"ap_lo\"** (diasblood pressure)re)  \n"
   ]
  },
  {
   "cell_type": "code",
   "execution_count": 47,
   "id": "40ffded5-78e1-43f9-b0ab-979662f0e3b1",
   "metadata": {},
   "outputs": [
    {
     "name": "stdout",
     "output_type": "stream",
     "text": [
      "Minimum height: 55\n",
      "Maximum height: 250\n",
      "Minimum weight: 10.0\n",
      "Maximum weight: 200.0\n",
      "Minimum ap_hi: -150\n",
      "Maximum ap_hi: 16020\n",
      "Minimum ap_lo: -70\n",
      "Maximum ap_lo: 11000\n"
     ]
    }
   ],
   "source": [
    "# Your code here:\n",
    "height_values = df['height'].dropna().values\n",
    "print(\"Minimum height:\", np.min(height_values))\n",
    "print(\"Maximum height:\", np.max(height_values))\n",
    "\n",
    "weight_values = df['weight'].dropna().values\n",
    "print(\"Minimum weight:\", np.min(weight_values))\n",
    "print(\"Maximum weight:\", np.max(weight_values))\n",
    "\n",
    "ap_hi_values = df['ap_hi'].dropna().values\n",
    "print(\"Minimum ap_hi:\", np.min(ap_hi_values))\n",
    "print(\"Maximum ap_hi:\", np.max(ap_hi_values))\n",
    "\n",
    "ap_lo_values = df['ap_lo'].dropna().values\n",
    "print(\"Minimum ap_lo:\", np.min(ap_lo_values))\n",
    "print(\"Maximum ap_lo:\", np.max(ap_lo_values))"
   ]
  },
  {
   "cell_type": "markdown",
   "id": "abb7e8b6-88f3-4c20-a706-1866b901f936",
   "metadata": {},
   "source": [
    "### **Exercise 3: Compute Measures of Central Tendency**  \n",
    "**Question:** Calculate the **mean**, **median**, and **mode** for the specified columns:  \n",
    "\n",
    "- **Mean:** Compute the mean of the **\"weight\"** column.  \n",
    "- **Median:** Compute the median of the **\"ap_hi\"** (systolic blood pressure) column.  \n",
    "- **Mode:** Compute the mode of the **\"gender\"** column.  "
   ]
  },
  {
   "cell_type": "code",
   "execution_count": 48,
   "id": "f2530035-c7dc-49e8-b34a-6eb82408850c",
   "metadata": {},
   "outputs": [
    {
     "name": "stdout",
     "output_type": "stream",
     "text": [
      "Mean value of weight: 74.21\n",
      "Median value of systolic blood pressure: 120.00\n",
      "Most common gender is: 1, which represent women, Count: 45522\n"
     ]
    }
   ],
   "source": [
    "# Your code here:\n",
    "mean_weight = df['weight'].mean()\n",
    "print(f\"Mean value of weight: {mean_weight:.2f}\")\n",
    "\n",
    "median_ap_hi = df['ap_hi'].median()\n",
    "print(f\"Median value of systolic blood pressure: {median_ap_hi:.2f}\")\n",
    "\n",
    "mode_gender = stats.mode(df['sex'], keepdims=True)\n",
    "print(f\"Most common gender is: {mode_gender.mode[0]}, which represent women, Count: {mode_gender.count[0]}\")\n",
    "# The reason why I assume gender 1 is women explained in the next cell."
   ]
  },
  {
   "cell_type": "code",
   "execution_count": 49,
   "id": "a2a665bb",
   "metadata": {},
   "outputs": [
    {
     "name": "stdout",
     "output_type": "stream",
     "text": [
      "sex\n",
      "1    45522\n",
      "2    24467\n",
      "3       11\n",
      "Name: count, dtype: int64\n",
      "    gender  smoker_count  smoker_percentage\n",
      "0  gender1           813              13.18\n",
      "1  gender2          5356              86.82\n",
      "    gender  drinker_count  drinker_percentage\n",
      "0  gender1           1161               30.84\n",
      "1  gender2           2603               69.16\n"
     ]
    }
   ],
   "source": [
    "# Since the dataset doesn’t specify which gender corresponds to 1 or 2, I will use smoking and drinking habits to make an assumption. Typically, men are more likely to smoke and drink than women.\n",
    "\n",
    "# Check gender distribution\n",
    "gender_sum = df['sex'].value_counts()\n",
    "print(gender_sum)\n",
    "\n",
    "total_smokers = df[df['smoke'] ==1].shape[0]\n",
    "total_drinkers = df[df['alco'] ==1].shape[0]\n",
    "\n",
    "smoker_gender1 = df[(df['sex'] == 1) & (df['smoke'] == 1)].shape[0]\n",
    "smoker_gender2 = df[(df['sex'] == 2) & (df['smoke'] == 1)].shape[0]\n",
    "\n",
    "gender1_percentage = round((smoker_gender1 / total_smokers) * 100,2)\n",
    "gender2_percentage = round((smoker_gender2 / total_smokers) * 100,2)\n",
    "\n",
    "smoker_count_table = pd.DataFrame({'gender':['gender1', 'gender2'], \n",
    "                                   'smoker_count':[smoker_gender1,smoker_gender2],\n",
    "                                   'smoker_percentage':[gender1_percentage, gender2_percentage]}) \n",
    "print(smoker_count_table)\n",
    "\n",
    "drinker_gender1 = df[(df['sex'] == 1) & (df['alco'] == 1)].shape[0]\n",
    "drinker_gender2 = df[(df['sex'] == 2) & (df['alco'] == 1)].shape[0]\n",
    "gender1_percentage_d = round((drinker_gender1/ total_drinkers) * 100,2)\n",
    "gender2_percentage_d = round((drinker_gender2/ total_drinkers) * 100,2)\n",
    "\n",
    "drinker_count_table = pd.DataFrame({'gender':['gender1', 'gender2'], \n",
    "                                   'drinker_count':[drinker_gender1,drinker_gender2],\n",
    "                                   'drinker_percentage':[gender1_percentage_d, gender2_percentage_d]}) \n",
    "print(drinker_count_table)\n",
    "\n",
    "# The result shows that although the total number of gender 1 is much larger than that of gender 2, gender 2 still occupies a larger proportion among the overall smokers and drinkers, indicating that gender 2 is more likely to represent males."
   ]
  },
  {
   "cell_type": "markdown",
   "id": "3542b40f-45c0-4b19-a00b-6832bb1f8933",
   "metadata": {},
   "source": [
    "### **Exercise 4: Compute Quantiles and Interquartile Range (IQR)**  \n",
    "**Question:** Compute the **Q1**, **Q2 (median)**, and **Q3** for the **\"cholesterol\"** column and calculate the **Interquartile Range (IQR)**. \n"
   ]
  },
  {
   "cell_type": "code",
   "execution_count": 50,
   "id": "e71a544c-dafa-4277-93fc-55877a245927",
   "metadata": {},
   "outputs": [
    {
     "name": "stdout",
     "output_type": "stream",
     "text": [
      "Q1 (25th percentile of cholesterol): 1.00\n",
      "Q3 (75th percentile of cholesterol): 2.00\n",
      "Interquartile range of cholesterol: 1.00\n"
     ]
    },
    {
     "data": {
      "image/png": "[encoded data removed]",
      "text/plain": [
       "<Figure size 800x500 with 1 Axes>"
      ]
     },
     "metadata": {},
     "output_type": "display_data"
    },
    {
     "name": "stdout",
     "output_type": "stream",
     "text": [
      "The interquartile range (IQR) is 1.00, \n",
      "indicating that the middle 50% of cholesterol values fall within the range of 1.00.\n",
      "This suggests that most individuals have similar cholesterol levels,\n",
      " and the data is relatively concentrated.\n"
     ]
    }
   ],
   "source": [
    "# Your code here:\n",
    "q1_cholesterol = df['cholesterol'].quantile(0.25)\n",
    "q3_cholesterol = df['cholesterol'].quantile(0.75)\n",
    "iqr_cholesterol = q3_cholesterol - q1_cholesterol\n",
    "\n",
    "print(f\"Q1 (25th percentile of cholesterol): {q1_cholesterol:.2f}\")\n",
    "print(f\"Q3 (75th percentile of cholesterol): {q3_cholesterol:.2f}\")\n",
    "print(f\"Interquartile range of cholesterol: {iqr_cholesterol:.2f}\")\n",
    "\n",
    "plt.figure(figsize=(8, 5))\n",
    "sns.boxplot(df['cholesterol'])\n",
    "plt.title(\"Cholesterol Distribution\")\n",
    "plt.show()\n",
    "\n",
    "print(\"The interquartile range (IQR) is 1.00, \\nindicating that the middle 50% of cholesterol values fall within the range of 1.00.\\nThis suggests that most individuals have similar cholesterol levels,\\n and the data is relatively concentrated.\")"
   ]
  },
  {
   "cell_type": "markdown",
   "id": "6fc3984d-5b71-4117-8ab8-f9bc81434f13",
   "metadata": {},
   "source": [
    "### **Exercise 5: Grouped Analysis by Gender**  \n",
    "**Question:** Calculate the **mean** of the **\"weight\"** column grouped by **\"gender\"**. \n"
   ]
  },
  {
   "cell_type": "code",
   "execution_count": 51,
   "id": "a45846a0-4136-4985-a2e1-f9706ee40ce6",
   "metadata": {},
   "outputs": [
    {
     "name": "stdout",
     "output_type": "stream",
     "text": [
      "sex\n",
      "1    72.57\n",
      "2    77.26\n",
      "3    69.82\n",
      "Name: weight, dtype: float64\n"
     ]
    }
   ],
   "source": [
    "# Your code here:\n",
    "mean_weight_groupby_gender = df.groupby('sex')['weight'].mean().round(2)\n",
    "print(mean_weight_groupby_gender)"
   ]
  },
  {
   "cell_type": "code",
   "execution_count": 52,
   "id": "965dc9bb-30e5-4df7-a4b9-3b11593aec83",
   "metadata": {},
   "outputs": [],
   "source": [
    "#Name: Yue Zhang\n",
    "#Student ID: 2421832\n",
    "#Email: Yue.Zhang2@metropolia.fi"
   ]
  }
 ],
 "metadata": {
  "kernelspec": {
   "display_name": "Python 3",
   "language": "python",
   "name": "python3"
  },
  "language_info": {
   "codemirror_mode": {
    "name": "ipython",
    "version": 3
   },
   "file_extension": ".py",
   "mimetype": "text/x-python",
   "name": "python",
   "nbconvert_exporter": "python",
   "pygments_lexer": "ipython3",
   "version": "3.9.13"
  }
 },
 "nbformat": 4,
 "nbformat_minor": 5
}
