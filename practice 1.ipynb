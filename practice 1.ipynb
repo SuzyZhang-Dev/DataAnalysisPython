{
 "cells": [
  {
   "cell_type": "markdown",
   "id": "e3af01f0-eb01-4668-ba00-755922f5413a",
   "metadata": {},
   "source": [
    "## Hands-on - Python ReCap 1"
   ]
  },
  {
   "cell_type": "code",
   "execution_count": 1,
   "id": "a56353bd",
   "metadata": {},
   "outputs": [
    {
     "name": "stdout",
     "output_type": "stream",
     "text": [
      "Dataset Preview:\n",
      "   age         workclass  fnlwgt  education  education-num  \\\n",
      "0   39         State-gov   77516  Bachelors             13   \n",
      "1   50  Self-emp-not-inc   83311  Bachelors             13   \n",
      "2   38           Private  215646    HS-grad              9   \n",
      "3   53           Private  234721       11th              7   \n",
      "4   28           Private  338409  Bachelors             13   \n",
      "\n",
      "       marital-status         occupation   relationship   race     sex  \\\n",
      "0       Never-married       Adm-clerical  Not-in-family  White    Male   \n",
      "1  Married-civ-spouse    Exec-managerial        Husband  White    Male   \n",
      "2            Divorced  Handlers-cleaners  Not-in-family  White    Male   \n",
      "3  Married-civ-spouse  Handlers-cleaners        Husband  Black    Male   \n",
      "4  Married-civ-spouse     Prof-specialty           Wife  Black  Female   \n",
      "\n",
      "   capital-gain  capital-loss  hours-per-week native-country salary  \n",
      "0          2174             0              40  United-States  <=50K  \n",
      "1             0             0              13  United-States  <=50K  \n",
      "2             0             0              40  United-States  <=50K  \n",
      "3             0             0              40  United-States  <=50K  \n",
      "4             0             0              40           Cuba  <=50K  \n"
     ]
    }
   ],
   "source": [
    "# 1. Import necessary libraries\n",
    "import pandas as pd  # pandas is used for handling tabular datasets (dataframes) and performing operations such as reading CSV files\n",
    "import numpy as np  # numpy is used for numerical computations such as working with arrays and applying mathematical operations\n",
    "\n",
    "# 2. Load dataset from GitHub URL\n",
    "file_path = \"https://raw.githubusercontent.com/Hamed-Ahmadinia/DASP-2025/main/adult.data.csv\"  # URL link to the dataset stored on GitHub\n",
    "\n",
    "# 3. Read the dataset into a pandas dataframe\n",
    "df = pd.read_csv(file_path, header=0)  # header=0 means the first row in the CSV is used as column names\n",
    "\n",
    "# 4. Display the first few rows of the dataframe to confirm the data has been loaded correctly\n",
    "print(\"Dataset Preview:\")  # Print a label for context\n",
    "print(df.head(5))  # Display the first 5 rows of the dataset"
   ]
  },
  {
   "cell_type": "markdown",
   "id": "d2fe1e77",
   "metadata": {},
   "source": [
    "### **Exercise 1: Common Python Operations**\n",
    "**Question:** Print the sum of the first row's `age` and `hours-per-week`."
   ]
  },
  {
   "cell_type": "code",
   "execution_count": 2,
   "id": "e4c0f73f-5efd-4ad6-b0d4-18b472b3fc3f",
   "metadata": {},
   "outputs": [
    {
     "name": "stdout",
     "output_type": "stream",
     "text": [
      "Sum of age and hours-per-week for the first row:  79\n"
     ]
    }
   ],
   "source": [
    "# Your code here\n",
    "age_hours = df['age'][0] + df['hours-per-week'][0]\n",
    "print(\"Sum of age and hours-per-week for the first row: \", age_hours)"
   ]
  },
  {
   "cell_type": "markdown",
   "id": "4c9f3e60",
   "metadata": {},
   "source": [
    "### **Exercise 2: String Manipulation**\n",
    "**Question:** Convert the first `workclass` entry to lowercase and strip any leading or trailing spaces."
   ]
  },
  {
   "cell_type": "code",
   "execution_count": 6,
   "id": "b2a4783c",
   "metadata": {},
   "outputs": [
    {
     "name": "stdout",
     "output_type": "stream",
     "text": [
      "Workclass for the first row in lowercase:  state-gov\n"
     ]
    }
   ],
   "source": [
    "# Your code here\n",
    "workclass_lowercase = df['workclass'][0].lower().strip()\n",
    "print(\"Workclass for the first row in lowercase: \", workclass_lowercase)"
   ]
  },
  {
   "cell_type": "markdown",
   "id": "6f7f7a0a",
   "metadata": {},
   "source": [
    "### **Exercise 3: Lists in Python**\n",
    "**Question:** Create a list of the unique values in the `education` column and print its length."
   ]
  },
  {
   "cell_type": "code",
   "execution_count": null,
   "id": "64bf4d82",
   "metadata": {},
   "outputs": [
    {
     "name": "stdout",
     "output_type": "stream",
     "text": [
      "There are 16 unique values in the education column\n"
     ]
    }
   ],
   "source": [
    "# Your code here\n",
    "education_list = df['education'].tolist()\n",
    "education_list_unique = list(set(education_list))\n",
    "print(\"There are\",len(education_list_unique), \"unique values in the education column.\")"
   ]
  },
  {
   "cell_type": "markdown",
   "id": "eddf6630",
   "metadata": {},
   "source": [
    "### **Exercise 4: Sets in Python**\n",
    "**Question:** Check if the value \"Self-employed\" exists in the unique set of `workclass` values."
   ]
  },
  {
   "cell_type": "code",
   "execution_count": 10,
   "id": "2a98a3b2",
   "metadata": {},
   "outputs": [
    {
     "name": "stdout",
     "output_type": "stream",
     "text": [
      "Self-employed is not in the workclass column.\n"
     ]
    }
   ],
   "source": [
    "# Your code here\n",
    "unique_workclass = set(df['workclass'].dropna())\n",
    "check = 'Self-employed' in unique_workclass\n",
    "if check:\n",
    "    print(\"Self-employed is in the workclass column.\")\n",
    "else:\n",
    "  print(\"Self-employed is not in the workclass column.\")"
   ]
  },
  {
   "cell_type": "markdown",
   "id": "bdbab979",
   "metadata": {},
   "source": [
    "### **Exercise 5: Dictionaries in Python**\n",
    "**Question:** Create a dictionary from the first row's data. Print the `occupation` value from the dictionary."
   ]
  },
  {
   "cell_type": "code",
   "execution_count": 11,
   "id": "1a2daae1",
   "metadata": {},
   "outputs": [
    {
     "name": "stdout",
     "output_type": "stream",
     "text": [
      "Occupation for the first row:  Adm-clerical\n"
     ]
    }
   ],
   "source": [
    "# Your code here\n",
    "dictionary_first_row = df.iloc[0].to_dict()\n",
    "print(\"Occupation for the first row: \", dictionary_first_row['occupation'])"
   ]
  },
  {
   "cell_type": "markdown",
   "id": "51de8b97",
   "metadata": {},
   "source": [
    "### **Exercise 6: Conditional Statements in Python**\n",
    "**Question:** Write a function that returns \"Minor\" if the age is less than 18, \"Adult\" if between 18 and 65, and \"Senior\" if greater than 65. Test it on the first row's `age`."
   ]
  },
  {
   "cell_type": "code",
   "execution_count": 12,
   "id": "815ffb15",
   "metadata": {},
   "outputs": [
    {
     "name": "stdout",
     "output_type": "stream",
     "text": [
      "Adult\n"
     ]
    }
   ],
   "source": [
    "# Your code here\n",
    "if dictionary_first_row['age'] <= 18:\n",
    "  print(\"Minor\")\n",
    "elif dictionary_first_row['age'] <= 65:\n",
    "  print(\"Adult\")\n",
    "else:\n",
    "  print(\"Senior\")\n"
   ]
  },
  {
   "cell_type": "markdown",
   "id": "9054a180",
   "metadata": {},
   "source": [
    "### **Exercise 7: For Loops**\n",
    "**Question:** Iterate through the first 5 rows of `workclass` and print each entry."
   ]
  },
  {
   "cell_type": "code",
   "execution_count": 13,
   "id": "f393c2fe",
   "metadata": {},
   "outputs": [
    {
     "name": "stdout",
     "output_type": "stream",
     "text": [
      "Workclass for row 0 is State-gov\n",
      "Workclass for row 1 is Self-emp-not-inc\n",
      "Workclass for row 2 is Private\n",
      "Workclass for row 3 is Private\n",
      "Workclass for row 4 is Private\n"
     ]
    }
   ],
   "source": [
    "# Your code here\n",
    "workclass_first_five = df['workclass'].head(5).tolist()\n",
    "for i in range(5):\n",
    "  print(\"Workclass for row\", i, \"is\", workclass_first_five[i])"
   ]
  },
  {
   "cell_type": "markdown",
   "id": "95505624",
   "metadata": {},
   "source": [
    "### **Exercise 8: Functions**\n",
    "**Question:** Define a function `sum_columns` that takes two column names and an index, sums the values of the specified columns at the given index, and returns the result. Test it with `age` and `hours-per-week` at the first row."
   ]
  },
  {
   "cell_type": "code",
   "execution_count": 14,
   "id": "05034c7e",
   "metadata": {},
   "outputs": [
    {
     "name": "stdout",
     "output_type": "stream",
     "text": [
      "Sum of age and hours-per-week for the first row:  79\n"
     ]
    }
   ],
   "source": [
    "# Your code here\n",
    "def sum_coloumns(col1,col2):\n",
    "  return df[col1][0] + df[col2][0]\n",
    "\n",
    "test_result = sum_coloumns('age','hours-per-week')\n",
    "print(\"Sum of age and hours-per-week for the first row: \", test_result)"
   ]
  },
  {
   "cell_type": "markdown",
   "id": "35d4a4cf",
   "metadata": {},
   "source": [
    "### **Exercise 9: File Handling**\n",
    "**Question:** Save the first 10 rows of the dataframe to `output.csv` and read it back. Print the first 2 rows from the loaded CSV."
   ]
  },
  {
   "cell_type": "code",
   "execution_count": 16,
   "id": "5ad3fa94",
   "metadata": {},
   "outputs": [
    {
     "name": "stdout",
     "output_type": "stream",
     "text": [
      "Data has been saved to sample_data.csv\n",
      "   age         workclass  fnlwgt  education  education-num  \\\n",
      "0   39         State-gov   77516  Bachelors             13   \n",
      "1   50  Self-emp-not-inc   83311  Bachelors             13   \n",
      "\n",
      "       marital-status       occupation   relationship   race   sex  \\\n",
      "0       Never-married     Adm-clerical  Not-in-family  White  Male   \n",
      "1  Married-civ-spouse  Exec-managerial        Husband  White  Male   \n",
      "\n",
      "   capital-gain  capital-loss  hours-per-week native-country salary  \n",
      "0          2174             0              40  United-States  <=50K  \n",
      "1             0             0              13  United-States  <=50K  \n"
     ]
    }
   ],
   "source": [
    "# Your code here\n",
    "sample_data = df.head(10).to_csv('sample_data.csv',index = False)\n",
    "print(\"Data has been saved to sample_data.csv\")\n",
    "\n",
    "#print fisrt 2 rows in sample_data.csv\n",
    "sample_data_read = pd.read_csv('sample_data.csv')\n",
    "print(sample_data_read.head(2))"
   ]
  },
  {
   "cell_type": "markdown",
   "id": "6744b80f",
   "metadata": {},
   "source": [
    "### **Exercise 10: Debugging in Python**\n",
    "**Question:** Write a try/except block to handle a `KeyError` when accessing a non-existent column `\"salary\"`. Print an appropriate error message when caught."
   ]
  },
  {
   "cell_type": "code",
   "execution_count": null,
   "id": "25de3093",
   "metadata": {},
   "outputs": [
    {
     "name": "stdout",
     "output_type": "stream",
     "text": [
      "Trying to access a column that does not exist.\n",
      "0        <=50K\n",
      "1        <=50K\n",
      "2        <=50K\n",
      "3        <=50K\n",
      "4        <=50K\n",
      "         ...  \n",
      "32556    <=50K\n",
      "32557     >50K\n",
      "32558    <=50K\n",
      "32559    <=50K\n",
      "32560     >50K\n",
      "Name: salary, Length: 32561, dtype: object\n",
      "Debugging example completed.\n",
      "Trying to access a column that does not exist.\n",
      "Column does not exist.\n",
      "Debugging example completed.\n"
     ]
    }
   ],
   "source": [
    "# Your code here\n",
    "try:\n",
    "  print(\"Trying to access a column that does not exist.\")\n",
    "  print(df['salary'])\n",
    "except KeyError:\n",
    "  print(\"Column does not exist.\")\n",
    "finally:\n",
    "  print(\"Debugging example completed.\")\n",
    "\n",
    "\n",
    "# column \"salary\" does exist, so I changed it to \"nation\" which does not exist in the dataset\n",
    "try:\n",
    "  print(\"Trying to access a column that does not exist.\")\n",
    "  print(df['nation'])\n",
    "except KeyError:\n",
    "  print(\"Column does not exist.\")\n",
    "finally:\n",
    "  print(\"Debugging example completed.\")"
   ]
  },
  {
   "cell_type": "code",
   "execution_count": null,
   "id": "66872290-beec-49c1-bcd1-741e50521d59",
   "metadata": {},
   "outputs": [],
   "source": [
    "print(\"Name: Yue Zhang\")\n",
    "print(\"Student ID: 2421832\")"
   ]
  }
 ],
 "metadata": {
  "kernelspec": {
   "display_name": "Python 3",
   "language": "python",
   "name": "python3"
  },
  "language_info": {
   "codemirror_mode": {
    "name": "ipython",
    "version": 3
   },
   "file_extension": ".py",
   "mimetype": "text/x-python",
   "name": "python",
   "nbconvert_exporter": "python",
   "pygments_lexer": "ipython3",
   "version": "3.9.13"
  }
 },
 "nbformat": 4,
 "nbformat_minor": 5
}
